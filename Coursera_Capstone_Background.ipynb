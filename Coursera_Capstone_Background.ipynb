{
    "cells": [
        {
            "cell_type": "markdown",
            "metadata": {
                "collapsed": true
            },
            "source": "# Background"
        },
        {
            "cell_type": "markdown",
            "metadata": {},
            "source": "<p> We have been asked to construct a model to predict the severity of accidents. A potential dataset is one available from the Seattle Department of Transportation (SDOT). There are two potential audiences for this case study. First, we have been asked to take the perspective of motorists and develop a model which can be used to warn them of increased probability of severe collisions so that they can either change their travel plans or take mitigating actions to reduce the probability of getting into a collision. The second audience who could use the model include SDOT and city planner executives. An effective model could provide city planners with insights on how to mitigate the driving factors of severe accidents \u2013 from increasing penalties for speeding or driving under the influence, to implementing wider bike lanes or updating the time allotted for pedestrians at crosswalks."
        },
        {
            "cell_type": "markdown",
            "metadata": {},
            "source": "# Data and How It Will Be Used"
        },
        {
            "cell_type": "markdown",
            "metadata": {},
            "source": "<p> This project will use the SDOT dataset to train and test the model. The dataset is comprised of collisions which were collected weekly by SDOT between 2004 to present day. An initial analysis of the data shows that there are 194,673 records and 38 fields, including two fields which describe the severity of a collision - \u201cSEVERITYCODE\u201d and \u201cSEVERITYDESC\u201d. This dataset only includes two types of severity \u2013 Property Damage (Severity 1) and Injury (Severity 2). Using the SEVERITYCODE as the target variable, I can construct a classification machine learning model."
        },
        {
            "cell_type": "markdown",
            "metadata": {},
            "source": "<p> There are several issues with the existing dataset which need to be addressed before constructing the model. First, 70% of the records are classified as Severity 1, which indicates an imbalanced dataset and could lead to overfitting of the model to predict Severity 1 with a deceptively high accuracy rate. I will have to consider techniques / models such as a decision tree, XGBoost, and undersampling / oversampling to balance the dataset. In addition, a preliminary analysis of some of the attributes demonstrate that there are records with missing information,  use of \u201cOther\u201d / \u201cUnknown\u201d and inconsistent values (use of 0 and 1 as well as Y and N) and if I select these attributes, records with these issues will have to be either dropped from the dataset or transformed. My plan is to first narrow the dataset to a complete dataset (ie, no missing values, consistent values) to enable easier analysis of which attributes to select for the models."
        },
        {
            "cell_type": "markdown",
            "metadata": {},
            "source": "<p> In thinking about which attributes to select to train and test various models, I will use visualization and statistical techniques (ex. correlation) to determine which variables should be included. Based on previous studies conducted, I expect to use the following variables to start \u2013 INCDATE, INCDTTM, WEATHER, ROADCOND,  JUNCTIONTYPE, and LOCATION. There are motorist behaviors included in the data-set including SPEEDING, UNDERINFL, and INATTENTIONIND. I may include these driver behaviors in early versions of the model to test the accuracy \u2013 authors of a Montreal collision study caution readers that driver behavior cannot be easily measured, so this data may be unreliable. A preliminary analysis of the data suggests that Severity 2 collisions tend to have pedestrians and cyclists involved and I will have to determine whether to include PEDCOUNT and PEDCYLCOUNT."
        }
    ],
    "metadata": {
        "kernelspec": {
            "display_name": "Python 3.6",
            "language": "python",
            "name": "python3"
        },
        "language_info": {
            "codemirror_mode": {
                "name": "ipython",
                "version": 3
            },
            "file_extension": ".py",
            "mimetype": "text/x-python",
            "name": "python",
            "nbconvert_exporter": "python",
            "pygments_lexer": "ipython3",
            "version": "3.6.9"
        }
    },
    "nbformat": 4,
    "nbformat_minor": 1
}